{
 "cells": [
  {
   "cell_type": "code",
   "execution_count": 1,
   "metadata": {},
   "outputs": [],
   "source": [
    "import cv2\n",
    "from PIL import Image\n",
    "import pypdfium2 as pdfium\n",
    "from os import walk\n",
    "import uuid\n",
    "################  EXTRACT IMAGES FROM PDF ################################\n",
    "PDF_NAME = \"Sanskrit_Text\"\n",
    "pdf = pdfium.PdfDocument(\"Sanskrit_Text.pdf\")\n",
    "version = pdf.get_version()  # get the PDF standard version\n",
    "n_pages = len(pdf)\n",
    "page_indices = [i for i in range(n_pages)]  # all pages\n",
    "renderer = pdf.render(\n",
    "    pdfium.PdfBitmap.to_pil,\n",
    "    page_indices = page_indices,\n",
    "    scale = 300/72,  # 300dpi resolution\n",
    ")\n",
    "for i, image in zip(page_indices, renderer):\n",
    "    image.save(\"./pdf-images/%s_%0*d.jpg\" % (PDF_NAME, n_pages, i))\n",
    "\n",
    "\n",
    "################  PERDORM OCR ###########################################\n",
    "\n",
    "# make an array of images extracted from pdf\n",
    "filenames = next(walk(\"./pdf-images\"), (None, None, []))[2] "
   ]
  }
 ],
 "metadata": {
  "kernelspec": {
   "display_name": "Python 3",
   "language": "python",
   "name": "python3"
  },
  "language_info": {
   "codemirror_mode": {
    "name": "ipython",
    "version": 3
   },
   "file_extension": ".py",
   "mimetype": "text/x-python",
   "name": "python",
   "nbconvert_exporter": "python",
   "pygments_lexer": "ipython3",
   "version": "3.10.6"
  },
  "orig_nbformat": 4
 },
 "nbformat": 4,
 "nbformat_minor": 2
}
